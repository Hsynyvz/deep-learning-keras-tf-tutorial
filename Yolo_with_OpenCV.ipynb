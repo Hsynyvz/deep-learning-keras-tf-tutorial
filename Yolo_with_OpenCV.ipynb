{
  "nbformat": 4,
  "nbformat_minor": 0,
  "metadata": {
    "colab": {
      "name": "Yolo with OpenCV.ipynb",
      "provenance": [],
      "mount_file_id": "1yZyclOBXH73Cjw4iIhsad11z_XuvlsG8",
      "authorship_tag": "ABX9TyPjxWKTxI/NhnkzCiVPzziU",
      "include_colab_link": true
    },
    "kernelspec": {
      "name": "python3",
      "display_name": "Python 3"
    },
    "language_info": {
      "name": "python"
    }
  },
  "cells": [
    {
      "cell_type": "markdown",
      "metadata": {
        "id": "view-in-github",
        "colab_type": "text"
      },
      "source": [
        "<a href=\"https://colab.research.google.com/github/Hsynyvz/deep-learning-keras-tf-tutorial/blob/master/Yolo_with_OpenCV.ipynb\" target=\"_parent\"><img src=\"https://colab.research.google.com/assets/colab-badge.svg\" alt=\"Open In Colab\"/></a>"
      ]
    },
    {
      "cell_type": "code",
      "metadata": {
        "id": "D4dm8vgyYY6C"
      },
      "source": [
        "from google.colab import drive\n",
        "drive.mount('/gdrive')"
      ],
      "execution_count": null,
      "outputs": []
    },
    {
      "cell_type": "code",
      "metadata": {
        "id": "H-YFWjS8X_9S"
      },
      "source": [
        "!ln -s /content/gdrive/My\\ Drive/ /mydrive1\n"
      ],
      "execution_count": null,
      "outputs": []
    },
    {
      "cell_type": "code",
      "metadata": {
        "id": "c9If2fZmYaUN",
        "colab": {
          "base_uri": "https://localhost:8080/"
        },
        "outputId": "42ff5389-3651-4a38-8f71-b862e79d163c"
      },
      "source": [
        "!ls /mydrive"
      ],
      "execution_count": null,
      "outputs": [
        {
          "output_type": "stream",
          "name": "stdout",
          "text": [
            " ColabNotebooks\t\t images\t\t\t\t    video\n",
            "'Colab Notebooks'\t municipality_bus_utilization.csv   yolov4\n",
            "'huseyin yavuz-cv.pdf'\t'My Drive'\n"
          ]
        }
      ]
    },
    {
      "cell_type": "code",
      "metadata": {
        "id": "6CJDtIKcX_5L",
        "colab": {
          "base_uri": "https://localhost:8080/"
        },
        "outputId": "b241d7d6-52bf-4455-b09d-b3a1a40e53a7"
      },
      "source": [
        "!ls /mydrive/ColabNotebooks/yolov4/Yolov3_with_OpenCV"
      ],
      "execution_count": null,
      "outputs": [
        {
          "output_type": "stream",
          "name": "stdout",
          "text": [
            "'Yolo with OpenCV.ipynb'\n"
          ]
        }
      ]
    },
    {
      "cell_type": "code",
      "metadata": {
        "id": "RlIyFxn8X_0d",
        "colab": {
          "base_uri": "https://localhost:8080/"
        },
        "outputId": "01b90bf8-6099-47fa-9e58-66c1c4682881"
      },
      "source": [
        "%cd /mydrive/ColabNotebooks/yolov4/Yolov3_with_OpenCV"
      ],
      "execution_count": null,
      "outputs": [
        {
          "output_type": "stream",
          "name": "stdout",
          "text": [
            "/content/drive/My Drive/ColabNotebooks/yolov4/Yolov3_with_OpenCV\n"
          ]
        }
      ]
    },
    {
      "cell_type": "code",
      "metadata": {
        "id": "uBg1Ih08X_wR"
      },
      "source": [
        "import cv2\n",
        "import numpy as np\n",
        " \n",
        "# Loading image\n",
        "img = cv2.imread(\"/mydrive/ColabNotebooks/yolov4/Yolov3_with_OpenCV/car.jpg\")"
      ],
      "execution_count": null,
      "outputs": []
    },
    {
      "cell_type": "code",
      "metadata": {
        "id": "uQNr8duzc_3x"
      },
      "source": [
        "yolo_weight = \"/mydrive/ColabNotebooks/yolov4/Yolov3_with_OpenCV/yolov3.weights\"\n",
        "yolo_config = \"/mydrive/ColabNotebooks/yolov4/Yolov3_with_OpenCV/yolov3.cfg\"\n",
        "coco_labels = \"/mydrive/ColabNotebooks/yolov4/Yolov3_with_OpenCV/coco.names\"\n",
        "net = cv2.dnn.readNet(yolo_weight, yolo_config)\n",
        " \n",
        "# Load coco object names file\n",
        "classes = []\n",
        "with open(coco_labels, \"r\") as f:\n",
        "    classes = [line.strip() for line in f.readlines()]"
      ],
      "execution_count": null,
      "outputs": []
    },
    {
      "cell_type": "code",
      "metadata": {
        "id": "i3ZpHf1Fc_1f"
      },
      "source": [
        "# # Defining desired shape\n",
        "fWidth = 320\n",
        "fHeight = 320\n",
        " \n",
        "# Resize image in opencv\n",
        "img = cv2.resize(img, (fWidth, fHeight))\n",
        " \n",
        "height, width, channels = img.shape"
      ],
      "execution_count": null,
      "outputs": []
    },
    {
      "cell_type": "code",
      "metadata": {
        "id": "YBxpY0m8c_y4"
      },
      "source": [
        "# Convert image to Blob\n",
        "blob = cv2.dnn.blobFromImage(img, 1/255, (fWidth, fHeight), (0, 0, 0), True, crop=False)\n",
        "# Set input for YOLO object detection\n",
        "net.setInput(blob)"
      ],
      "execution_count": null,
      "outputs": []
    },
    {
      "cell_type": "code",
      "metadata": {
        "colab": {
          "base_uri": "https://localhost:8080/"
        },
        "id": "tK7FPBVac_we",
        "outputId": "f41263d9-c646-47fc-9d24-8ebd38493661"
      },
      "source": [
        "# Find names of all layers\n",
        "layer_names = net.getLayerNames()\n",
        "print(layer_names)\n",
        "# Find names of three output layers\n",
        "output_layers = [layer_names[i[0] - 1] for i in net.getUnconnectedOutLayers()]\n",
        "print(output_layers)"
      ],
      "execution_count": null,
      "outputs": [
        {
          "output_type": "stream",
          "name": "stdout",
          "text": [
            "['conv_0', 'bn_0', 'relu_0', 'conv_1', 'bn_1', 'relu_1', 'conv_2', 'bn_2', 'relu_2', 'conv_3', 'bn_3', 'relu_3', 'shortcut_4', 'conv_5', 'bn_5', 'relu_5', 'conv_6', 'bn_6', 'relu_6', 'conv_7', 'bn_7', 'relu_7', 'shortcut_8', 'conv_9', 'bn_9', 'relu_9', 'conv_10', 'bn_10', 'relu_10', 'shortcut_11', 'conv_12', 'bn_12', 'relu_12', 'conv_13', 'bn_13', 'relu_13', 'conv_14', 'bn_14', 'relu_14', 'shortcut_15', 'conv_16', 'bn_16', 'relu_16', 'conv_17', 'bn_17', 'relu_17', 'shortcut_18', 'conv_19', 'bn_19', 'relu_19', 'conv_20', 'bn_20', 'relu_20', 'shortcut_21', 'conv_22', 'bn_22', 'relu_22', 'conv_23', 'bn_23', 'relu_23', 'shortcut_24', 'conv_25', 'bn_25', 'relu_25', 'conv_26', 'bn_26', 'relu_26', 'shortcut_27', 'conv_28', 'bn_28', 'relu_28', 'conv_29', 'bn_29', 'relu_29', 'shortcut_30', 'conv_31', 'bn_31', 'relu_31', 'conv_32', 'bn_32', 'relu_32', 'shortcut_33', 'conv_34', 'bn_34', 'relu_34', 'conv_35', 'bn_35', 'relu_35', 'shortcut_36', 'conv_37', 'bn_37', 'relu_37', 'conv_38', 'bn_38', 'relu_38', 'conv_39', 'bn_39', 'relu_39', 'shortcut_40', 'conv_41', 'bn_41', 'relu_41', 'conv_42', 'bn_42', 'relu_42', 'shortcut_43', 'conv_44', 'bn_44', 'relu_44', 'conv_45', 'bn_45', 'relu_45', 'shortcut_46', 'conv_47', 'bn_47', 'relu_47', 'conv_48', 'bn_48', 'relu_48', 'shortcut_49', 'conv_50', 'bn_50', 'relu_50', 'conv_51', 'bn_51', 'relu_51', 'shortcut_52', 'conv_53', 'bn_53', 'relu_53', 'conv_54', 'bn_54', 'relu_54', 'shortcut_55', 'conv_56', 'bn_56', 'relu_56', 'conv_57', 'bn_57', 'relu_57', 'shortcut_58', 'conv_59', 'bn_59', 'relu_59', 'conv_60', 'bn_60', 'relu_60', 'shortcut_61', 'conv_62', 'bn_62', 'relu_62', 'conv_63', 'bn_63', 'relu_63', 'conv_64', 'bn_64', 'relu_64', 'shortcut_65', 'conv_66', 'bn_66', 'relu_66', 'conv_67', 'bn_67', 'relu_67', 'shortcut_68', 'conv_69', 'bn_69', 'relu_69', 'conv_70', 'bn_70', 'relu_70', 'shortcut_71', 'conv_72', 'bn_72', 'relu_72', 'conv_73', 'bn_73', 'relu_73', 'shortcut_74', 'conv_75', 'bn_75', 'relu_75', 'conv_76', 'bn_76', 'relu_76', 'conv_77', 'bn_77', 'relu_77', 'conv_78', 'bn_78', 'relu_78', 'conv_79', 'bn_79', 'relu_79', 'conv_80', 'bn_80', 'relu_80', 'conv_81', 'permute_82', 'yolo_82', 'identity_83', 'conv_84', 'bn_84', 'relu_84', 'upsample_85', 'concat_86', 'conv_87', 'bn_87', 'relu_87', 'conv_88', 'bn_88', 'relu_88', 'conv_89', 'bn_89', 'relu_89', 'conv_90', 'bn_90', 'relu_90', 'conv_91', 'bn_91', 'relu_91', 'conv_92', 'bn_92', 'relu_92', 'conv_93', 'permute_94', 'yolo_94', 'identity_95', 'conv_96', 'bn_96', 'relu_96', 'upsample_97', 'concat_98', 'conv_99', 'bn_99', 'relu_99', 'conv_100', 'bn_100', 'relu_100', 'conv_101', 'bn_101', 'relu_101', 'conv_102', 'bn_102', 'relu_102', 'conv_103', 'bn_103', 'relu_103', 'conv_104', 'bn_104', 'relu_104', 'conv_105', 'permute_106', 'yolo_106']\n",
            "['yolo_82', 'yolo_94', 'yolo_106']\n"
          ]
        }
      ]
    },
    {
      "cell_type": "code",
      "metadata": {
        "colab": {
          "base_uri": "https://localhost:8080/"
        },
        "id": "N0IQWd16c_ub",
        "outputId": "7e1ececf-88f0-40ae-bfd2-50b231c4cac3"
      },
      "source": [
        "outs = net.forward(output_layers)\n",
        "print(outs[0].shape)\n",
        "print(outs[1].shape)\n",
        "print(outs[2].shape)"
      ],
      "execution_count": null,
      "outputs": [
        {
          "output_type": "stream",
          "name": "stdout",
          "text": [
            "(300, 85)\n",
            "(1200, 85)\n",
            "(4800, 85)\n"
          ]
        }
      ]
    },
    {
      "cell_type": "code",
      "metadata": {
        "id": "RoY4UdUec_r2"
      },
      "source": [
        "# Generating random color for all 80 classes\n",
        "colors = np.random.uniform(0, 255, size=(len(classes), 3))"
      ],
      "execution_count": null,
      "outputs": []
    },
    {
      "cell_type": "code",
      "metadata": {
        "id": "iXAgPOAofUof"
      },
      "source": [
        "# Extract information on the screen\n",
        "class_ids = []\n",
        "confidences = []\n",
        "boxes = []\n",
        "for out in outs:\n",
        "    for detection in out:\n",
        "        # Extract score value\n",
        "        scores = detection[5:]\n",
        "        # Object id\n",
        "        class_id = np.argmax(scores)\n",
        "        # Confidence score for each object ID\n",
        "        confidence = scores[class_id]\n",
        "        # if confidence > 0.5 and class_id == 0:\n",
        "        if confidence > 0.5:\n",
        "            # Extract values to draw bounding box\n",
        "            center_x = int(detection[0] * width)\n",
        "            center_y = int(detection[1] * height)\n",
        "            w = int(detection[2] * width)\n",
        "            h = int(detection[3] * height)\n",
        "            # Rectangle coordinates\n",
        "            x = int(center_x - w / 2)\n",
        "            y = int(center_y - h / 2)\n",
        "            boxes.append([x, y, w, h])\n",
        "            confidences.append(float(confidence))\n",
        "            class_ids.append(class_id)\n",
        " \n",
        "indexes = cv2.dnn.NMSBoxes(boxes, confidences, 0.5, 0.4)"
      ],
      "execution_count": null,
      "outputs": []
    },
    {
      "cell_type": "code",
      "metadata": {
        "id": "dVOr-nUrfUmF"
      },
      "source": [
        "# Draw bounding box with text for each object\n",
        "font = cv2.FONT_HERSHEY_DUPLEX\n",
        "for i in range(len(boxes)):\n",
        "    if i in indexes:\n",
        "        x, y, w, h = boxes[i]\n",
        "        label = str(classes[class_ids[i]])\n",
        "        confidence_label = int(confidences[i] * 100)\n",
        "        color = colors[i]\n",
        "        cv2.rectangle(img, (x, y), (x + w, y + h), color, 2)\n",
        "        cv2.putText(img, f'{label, confidence_label}', (x-25, y + 75), font, 1, color, 2)\n",
        " \n"
      ],
      "execution_count": null,
      "outputs": []
    },
    {
      "cell_type": "code",
      "metadata": {
        "id": "hSdRwpg-fUjn"
      },
      "source": [
        "cv2.imshow(\"Image\", img)\n",
        "cv2.waitKey(0)\n",
        "cv2.destroyAllWindows()"
      ],
      "execution_count": null,
      "outputs": []
    }
  ]
}